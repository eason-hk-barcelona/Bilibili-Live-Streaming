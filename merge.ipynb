{
 "cells": [
  {
   "cell_type": "code",
   "execution_count": 2,
   "metadata": {},
   "outputs": [
    {
     "name": "stderr",
     "output_type": "stream",
     "text": [
      "Merging CSV files:   0%|          | 0/7136 [00:00<?, ?file/s]"
     ]
    },
    {
     "name": "stderr",
     "output_type": "stream",
     "text": [
      "Merging CSV files:  12%|█▏        | 855/7136 [00:12<02:21, 44.48file/s] C:\\Users\\Eason\\AppData\\Local\\Temp\\ipykernel_50164\\581586772.py:19: DtypeWarning: Columns (2,3) have mixed types. Specify dtype option on import or set low_memory=False.\n",
      "  df = pd.read_csv(file_path)\n",
      "Merging CSV files:  78%|███████▊  | 5583/7136 [08:08<05:10,  5.00file/s]C:\\Users\\Eason\\AppData\\Local\\Temp\\ipykernel_50164\\581586772.py:19: DtypeWarning: Columns (2,3) have mixed types. Specify dtype option on import or set low_memory=False.\n",
      "  df = pd.read_csv(file_path)\n",
      "Merging CSV files:  83%|████████▎ | 5926/7136 [09:23<04:46,  4.22file/s]C:\\Users\\Eason\\AppData\\Local\\Temp\\ipykernel_50164\\581586772.py:19: DtypeWarning: Columns (2,3) have mixed types. Specify dtype option on import or set low_memory=False.\n",
      "  df = pd.read_csv(file_path)\n",
      "Merging CSV files: 100%|██████████| 7136/7136 [14:54<00:00,  7.98file/s]\n"
     ]
    },
    {
     "name": "stdout",
     "output_type": "stream",
     "text": [
      "Merged data saved to merged_data.csv\n"
     ]
    }
   ],
   "source": [
    "import os\n",
    "import pandas as pd\n",
    "from tqdm import tqdm\n",
    "\n",
    "input_directory = 'users'\n",
    "output_file = 'merged_data.csv'\n",
    "\n",
    "def merge_csv_files(input_directory, output_file):\n",
    "    # Get a list of all CSV files in the input directory\n",
    "    csv_files = [file for file in os.listdir(input_directory) if file.endswith('.csv')]\n",
    "\n",
    "    # Initialize an empty DataFrame to store the merged data\n",
    "    merged_data = pd.DataFrame()\n",
    "\n",
    "    # Loop through each CSV file and merge it into the DataFrame\n",
    "    for file in tqdm(csv_files, desc=\"Merging CSV files\", unit=\"file\"):\n",
    "        name_without_extension = file.split(\".csv\")[0]#从文件名中提取不包含扩展名的部分-获取uid\n",
    "        file_path = os.path.join(input_directory, file)\n",
    "        df = pd.read_csv(file_path)\n",
    "        df['uid'] = name_without_extension\n",
    "        merged_data = pd.concat([merged_data, df], ignore_index=True)\n",
    "\n",
    "    # Write the merged data to a new CSV file\n",
    "    merged_data.to_csv(output_file, index=False)\n",
    "    print(f\"Merged data saved to {output_file}\")\n",
    "\n",
    "# Call the function to perform the merge\n",
    "merge_csv_files(input_directory, output_file)"
   ]
  },
  {
   "cell_type": "code",
   "execution_count": null,
   "metadata": {},
   "outputs": [],
   "source": []
  }
 ],
 "metadata": {
  "kernelspec": {
   "display_name": "base",
   "language": "python",
   "name": "python3"
  },
  "language_info": {
   "codemirror_mode": {
    "name": "ipython",
    "version": 3
   },
   "file_extension": ".py",
   "mimetype": "text/x-python",
   "name": "python",
   "nbconvert_exporter": "python",
   "pygments_lexer": "ipython3",
   "version": "3.10.9"
  },
  "orig_nbformat": 4
 },
 "nbformat": 4,
 "nbformat_minor": 2
}
